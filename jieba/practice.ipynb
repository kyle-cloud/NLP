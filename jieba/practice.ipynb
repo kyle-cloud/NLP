{
 "cells": [
  {
   "cell_type": "code",
   "execution_count": 1,
   "metadata": {},
   "outputs": [],
   "source": [
    "import jieba"
   ]
  },
  {
   "cell_type": "markdown",
   "metadata": {},
   "source": [
    "## 1 分词"
   ]
  },
  {
   "cell_type": "code",
   "execution_count": 6,
   "metadata": {},
   "outputs": [
    {
     "output_type": "stream",
     "name": "stdout",
     "text": "【精确模式】：让/我们/走上/这条/成神/之路/，/北京/交通/大学/毕业生\n【全模式】：让/我们/走上/这条/成/神/之路///北京/交通/大学/大学毕业/毕业/毕业生/业生\n【搜索引擎模式】：让/我们/走上/这条/成神/之路/，/北京/交通/大学/毕业/业生/毕业生\n"
    }
   ],
   "source": [
    "seg_list = jieba.cut(\"让我们走上这条成神之路，北京交通大学毕业生\", cut_all=False)\n",
    "print(\"【精确模式】：\" + '/'.join(seg_list))\n",
    "\n",
    "seg_list = jieba.cut(\"让我们走上这条成神之路，北京交通大学毕业生\", cut_all=True)\n",
    "print(\"【全模式】：\" + '/'.join(seg_list))\n",
    "\n",
    "seg_list = jieba.cut_for_search(\"让我们走上这条成神之路，北京交通大学毕业生\")\n",
    "print(\"【搜索引擎模式】：\" + '/'.join(seg_list))"
   ]
  },
  {
   "cell_type": "markdown",
   "metadata": {},
   "source": [
    "#可以看出全模式和搜索引擎模式会将一个有歧义的词划分一下，然后将字典中的所有可能加入到输出中。"
   ]
  },
  {
   "cell_type": "markdown",
   "metadata": {},
   "source": [
    "## 2 自定义词典"
   ]
  },
  {
   "cell_type": "code",
   "execution_count": 2,
   "metadata": {},
   "outputs": [
    {
     "output_type": "stream",
     "name": "stderr",
     "text": "Building prefix dict from the default dictionary ...\nLoading model from cache C:\\Users\\11394\\AppData\\Local\\Temp\\jieba.cache\nLoading model cost 1.233 seconds.\nPrefix dict has been built succesfully.\n【使用自定义词典前】：我/是/我/北京/交通/大学/毕业生\n【使用自定义词典后】：我/是/我/北京交通大学/毕业生\n"
    }
   ],
   "source": [
    "seg_list = jieba.cut(\"我是我北京交通大学毕业生\")\n",
    "print(\"【使用自定义词典前】：\" + '/'.join(seg_list))\n",
    "\n",
    "jieba.load_userdict(\"user_dict.txt\")\n",
    "seg_list = jieba.cut(\"我是我北京交通大学毕业生\")\n",
    "print(\"【使用自定义词典后】：\" + '/'.join(seg_list))"
   ]
  },
  {
   "cell_type": "markdown",
   "metadata": {},
   "source": [
    "#可以看出，加载词典后的精确分词模式会直接使用词典里的词。cut_all=True换成全模式，在原输出上，也会加上自定义词典里定义的词。"
   ]
  },
  {
   "cell_type": "markdown",
   "metadata": {},
   "source": [
    "## 3 调整词典"
   ]
  },
  {
   "cell_type": "code",
   "execution_count": 16,
   "metadata": {},
   "outputs": [
    {
     "output_type": "stream",
     "name": "stdout",
     "text": "【删除前】：与/人/交往/要/有/一好\n【删除后】：与/人/交往/要/有/一/好\n"
    }
   ],
   "source": [
    "# 1. 删除\n",
    "seg_list = jieba.cut(\"与人交往要有一好\")\n",
    "print(\"【删除前】：\" + '/'.join(seg_list))\n",
    "\n",
    "jieba.del_word(\"一好\")\n",
    "seg_list = jieba.cut(\"与人交往要有一好\")\n",
    "print(\"【删除后】：\" + '/'.join(seg_list))"
   ]
  },
  {
   "cell_type": "code",
   "execution_count": 2,
   "metadata": {},
   "outputs": [
    {
     "output_type": "stream",
     "name": "stderr",
     "text": "Building prefix dict from the default dictionary ...\nLoading model from cache C:\\Users\\11394\\AppData\\Local\\Temp\\jieba.cache\nLoading model cost 1.007 seconds.\nPrefix dict has been built succesfully.\n【添加前】：与/人/交往/要/有/一好\n【添加后】：与人/交往/要/有/一好\n"
    }
   ],
   "source": [
    "# 2. 添加\n",
    "seg_list = jieba.cut(\"与人交往要有一好\")\n",
    "print(\"【添加前】：\" + '/'.join(seg_list))\n",
    "\n",
    "jieba.add_word(\"与人\")\n",
    "seg_list = jieba.cut(\"与人交往要有一好\")\n",
    "print(\"【添加后】：\" + '/'.join(seg_list))"
   ]
  },
  {
   "cell_type": "code",
   "execution_count": 2,
   "metadata": {},
   "outputs": [
    {
     "output_type": "stream",
     "name": "stderr",
     "text": "Building prefix dict from the default dictionary ...\nLoading model from cache C:\\Users\\11394\\AppData\\Local\\Temp\\jieba.cache\nLoading model cost 0.979 seconds.\nPrefix dict has been built succesfully.\n【修改前】：与/人/交往/要/有/一好\n839\n【修改后】：与人/交往/要/有/一好\n"
    }
   ],
   "source": [
    "# 3. 修改词频\n",
    "seg_list = jieba.cut(\"与人交往要有一好\")\n",
    "print(\"【修改前】：\" + '/'.join(seg_list))\n",
    "\n",
    "print(jieba.suggest_freq(\"与人\", True))\n",
    "seg_list = jieba.cut(\"与人交往要有一好\")\n",
    "print(\"【修改后】：\" + '/'.join(seg_list))"
   ]
  },
  {
   "cell_type": "markdown",
   "metadata": {},
   "source": [
    "## 4 关键词提取"
   ]
  },
  {
   "cell_type": "code",
   "execution_count": 9,
   "metadata": {},
   "outputs": [
    {
     "output_type": "stream",
     "name": "stdout",
     "text": "【TF-IDF】：\nnlp/测试代码/练手/学习/文档/为了/浏览/梳理/笔记/养成/仓库/便利/接下来/路线/记录/知识/更好/习惯/目的/并且/\n\n【Textrank】：\n还有/大家/测试代码/项目/文档/包括/习惯/练手/希望/目的/仓库/梳理/记录/知识/浏览/带来/学习/养成/笔记/路线/"
    }
   ],
   "source": [
    "from jieba import analyse\n",
    "#原始文本\n",
    "text = \"这个仓库的目的是为了将我接下来学习 nlp 的路线做一下记录，包括测试代码、练手项目还有自己的学习笔记。同时也是为了养成一个写文档的好习惯，希望可以更好地梳理知识，并且为大家的浏览带来便利\"\n",
    "\n",
    "# TF-IDF\n",
    "tfidf = analyse.extract_tags\n",
    "keywords = tfidf(text)\n",
    "print('【TF-IDF】：')\n",
    "for keyword in keywords:\n",
    "    print(keyword + '/', end=\"\")\n",
    "\n",
    "# Textrank\n",
    "textrank = analyse.textrank\n",
    "keywords = textrank(text)\n",
    "print('\\n\\n【Textrank】：')\n",
    "for keyword in keywords:\n",
    "    print(keyword + '/', end=\"\")"
   ]
  },
  {
   "cell_type": "markdown",
   "metadata": {},
   "source": [
    "## 5 词性标注"
   ]
  },
  {
   "cell_type": "code",
   "execution_count": 11,
   "metadata": {},
   "outputs": [
    {
     "output_type": "stream",
     "name": "stdout",
     "text": "今天 : t\n我 : r\n做 : v\n了 : ul\n不少 : d\n事情 : n\n"
    }
   ],
   "source": [
    "import jieba.posseg as pseg\n",
    "words = pseg.cut('今天我做了不少事情')\n",
    "for word, flag in words:\n",
    "    print(word + ' : ' + flag)"
   ]
  },
  {
   "cell_type": "markdown",
   "metadata": {},
   "source": [
    "## 6 并行分词"
   ]
  },
  {
   "cell_type": "code",
   "execution_count": 14,
   "metadata": {},
   "outputs": [
    {
     "output_type": "error",
     "ename": "NotImplementedError",
     "evalue": "jieba: parallel mode only supports posix system",
     "traceback": [
      "\u001b[1;31m---------------------------------------------------------------------------\u001b[0m",
      "\u001b[1;31mNotImplementedError\u001b[0m                       Traceback (most recent call last)",
      "\u001b[1;32m<ipython-input-14-e38b6074f30f>\u001b[0m in \u001b[0;36m<module>\u001b[1;34m\u001b[0m\n\u001b[1;32m----> 1\u001b[1;33m \u001b[0mjieba\u001b[0m\u001b[1;33m.\u001b[0m\u001b[0menable_parallel\u001b[0m\u001b[1;33m(\u001b[0m\u001b[1;36m4\u001b[0m\u001b[1;33m)\u001b[0m\u001b[1;33m\u001b[0m\u001b[1;33m\u001b[0m\u001b[0m\n\u001b[0m\u001b[0;32m      2\u001b[0m \u001b[0mjieba\u001b[0m\u001b[1;33m.\u001b[0m\u001b[0menable_parallel\u001b[0m\u001b[1;33m(\u001b[0m\u001b[1;33m)\u001b[0m\u001b[1;33m\u001b[0m\u001b[1;33m\u001b[0m\u001b[0m\n",
      "\u001b[1;32m~\\.conda\\envs\\pytorch\\lib\\site-packages\\jieba\\__init__.py\u001b[0m in \u001b[0;36menable_parallel\u001b[1;34m(processnum)\u001b[0m\n\u001b[0;32m    576\u001b[0m     \u001b[1;32mif\u001b[0m \u001b[0mos\u001b[0m\u001b[1;33m.\u001b[0m\u001b[0mname\u001b[0m \u001b[1;33m==\u001b[0m \u001b[1;34m'nt'\u001b[0m\u001b[1;33m:\u001b[0m\u001b[1;33m\u001b[0m\u001b[1;33m\u001b[0m\u001b[0m\n\u001b[0;32m    577\u001b[0m         raise NotImplementedError(\n\u001b[1;32m--> 578\u001b[1;33m             \"jieba: parallel mode only supports posix system\")\n\u001b[0m\u001b[0;32m    579\u001b[0m     \u001b[1;32melse\u001b[0m\u001b[1;33m:\u001b[0m\u001b[1;33m\u001b[0m\u001b[1;33m\u001b[0m\u001b[0m\n\u001b[0;32m    580\u001b[0m         \u001b[1;32mfrom\u001b[0m \u001b[0mmultiprocessing\u001b[0m \u001b[1;32mimport\u001b[0m \u001b[0mPool\u001b[0m\u001b[1;33m\u001b[0m\u001b[1;33m\u001b[0m\u001b[0m\n",
      "\u001b[1;31mNotImplementedError\u001b[0m: jieba: parallel mode only supports posix system"
     ]
    }
   ],
   "source": [
    "jieba.enable_parallel(4) #开启，并行进程数\n",
    "jieba.enable_parallel() # 关闭"
   ]
  },
  {
   "cell_type": "markdown",
   "metadata": {},
   "source": [
    "## 7 返回词语在原文起止位置"
   ]
  },
  {
   "cell_type": "code",
   "execution_count": 18,
   "metadata": {},
   "outputs": [
    {
     "output_type": "stream",
     "name": "stdout",
     "text": "今天\t\t0\t\t2\n我\t\t2\t\t3\n做\t\t3\t\t4\n了\t\t4\t\t5\n不少\t\t5\t\t7\n事情\t\t7\t\t9\n"
    }
   ],
   "source": [
    "result = jieba.tokenize('今天我做了不少事情')\n",
    "for token in result:\n",
    "    print('%s\\t\\t%s\\t\\t%s' % (token[0], token[1], token[2]))"
   ]
  },
  {
   "cell_type": "markdown",
   "metadata": {},
   "source": [
    "## 8 延迟加载机制"
   ]
  },
  {
   "cell_type": "code",
   "execution_count": 20,
   "metadata": {},
   "outputs": [],
   "source": [
    "jieba.initialize()"
   ]
  }
 ],
 "metadata": {
  "language_info": {
   "codemirror_mode": {
    "name": "ipython",
    "version": 3
   },
   "file_extension": ".py",
   "mimetype": "text/x-python",
   "name": "python",
   "nbconvert_exporter": "python",
   "pygments_lexer": "ipython3",
   "version": "3.6.10-final"
  },
  "orig_nbformat": 2,
  "kernelspec": {
   "name": "python361064bitpytorchconda65c66593025043f1910dc5b1b85bf2f5",
   "display_name": "Python 3.6.10 64-bit ('pytorch': conda)"
  }
 },
 "nbformat": 4,
 "nbformat_minor": 2
}