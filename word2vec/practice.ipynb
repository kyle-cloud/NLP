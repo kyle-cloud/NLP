{
 "cells": [
  {
   "cell_type": "code",
   "execution_count": 2,
   "metadata": {},
   "outputs": [],
   "source": [
    "import gensim\n",
    "from gensim.models import word2vec"
   ]
  },
  {
   "cell_type": "markdown",
   "metadata": {},
   "source": [
    "## 1 模型训练"
   ]
  },
  {
   "cell_type": "code",
   "execution_count": 6,
   "metadata": {},
   "outputs": [],
   "source": [
    "sentences = [['机器学习', '十分', '有趣'], ['有', '很多', '相关', '领域']] #每个句子分词之后\n",
    "\n",
    "#训练模型\n",
    "model = word2vec.Word2Vec(sentences, size=256, min_count=1) #向量维度，最低词频\n",
    "\n",
    "#保存模型\n",
    "model.save('word2vec_atec')"
   ]
  },
  {
   "cell_type": "markdown",
   "metadata": {},
   "source": [
    "## 2 增量训练"
   ]
  },
  {
   "cell_type": "code",
   "execution_count": 8,
   "metadata": {},
   "outputs": [
    {
     "output_type": "stream",
     "name": "stderr",
     "text": "C:\\Users\\11394\\.conda\\envs\\pytorch\\lib\\site-packages\\ipykernel_launcher.py:7: DeprecationWarning: Call to deprecated `iter` (Attribute will be removed in 4.0.0, use self.epochs instead).\n  import sys\n"
    }
   ],
   "source": [
    "#加载已有模型\n",
    "model = gensim.models.Word2Vec.load('word2vec_atec')\n",
    "\n",
    "#进行增量训练\n",
    "corpus = [['人工智能', '应用', '广泛'], ['爱好者', '众多']]\n",
    "model.build_vocab(corpus, update=True)\n",
    "model.train(corpus, total_examples=model.corpus_count, epochs=model.iter)\n",
    "\n",
    "#保存模型\n",
    "model.save('word2vec_advanced')"
   ]
  },
  {
   "cell_type": "markdown",
   "metadata": {},
   "source": [
    "## 3 词语相似度"
   ]
  },
  {
   "cell_type": "code",
   "execution_count": 11,
   "metadata": {},
   "outputs": [
    {
     "output_type": "stream",
     "name": "stdout",
     "text": "-0.0722718\n"
    }
   ],
   "source": [
    "print(model.wv.similarity('很多', '众多'))"
   ]
  },
  {
   "cell_type": "markdown",
   "metadata": {},
   "source": [
    "## 4 与词语相近的多个词语"
   ]
  },
  {
   "cell_type": "code",
   "execution_count": 15,
   "metadata": {},
   "outputs": [
    {
     "output_type": "stream",
     "name": "stdout",
     "text": "有 0.08387558907270432\n爱好者 0.07770461589097977\n领域 0.06236041337251663\n广泛 0.037748705595731735\n应用 0.01593899540603161\n十分 0.012489739805459976\n相关 -0.0016310345381498337\n有趣 -0.002348240464925766\n机器学习 -0.004117954522371292\n人工智能 -0.01492256298661232\nC:\\Users\\11394\\.conda\\envs\\pytorch\\lib\\site-packages\\ipykernel_launcher.py:1: DeprecationWarning: Call to deprecated `most_similar` (Method will be removed in 4.0.0, use self.wv.most_similar() instead).\n  \"\"\"Entry point for launching an IPython kernel.\n"
    }
   ],
   "source": [
    "for word in model.most_similar('很多'):\n",
    "    print(word[0], word[1])"
   ]
  },
  {
   "cell_type": "code",
   "execution_count": null,
   "metadata": {},
   "outputs": [],
   "source": [
    "# 可以看出‘很多’和‘众多’并不是相近的，这是因为我们的语料库只有几个词，机器并不能识别词义，知识根据他们在句子中的位置和关系等因素来进行的编码"
   ]
  },
  {
   "cell_type": "code",
   "execution_count": null,
   "metadata": {},
   "outputs": [],
   "source": []
  }
 ],
 "metadata": {
  "language_info": {
   "codemirror_mode": {
    "name": "ipython",
    "version": 3
   },
   "file_extension": ".py",
   "mimetype": "text/x-python",
   "name": "python",
   "nbconvert_exporter": "python",
   "pygments_lexer": "ipython3",
   "version": "3.6.10-final"
  },
  "orig_nbformat": 2,
  "kernelspec": {
   "name": "python361064bitpytorchconda65c66593025043f1910dc5b1b85bf2f5",
   "display_name": "Python 3.6.10 64-bit ('pytorch': conda)"
  }
 },
 "nbformat": 4,
 "nbformat_minor": 2
}